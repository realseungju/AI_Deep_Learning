{
  "nbformat": 4,
  "nbformat_minor": 0,
  "metadata": {
    "colab": {
      "provenance": [],
      "mount_file_id": "1RIS9CbFYg74zhM-yIi7UHCd90r91Pf9v",
      "authorship_tag": "ABX9TyPEqfis1pTz8B4Vxe3L91pN",
      "include_colab_link": true
    },
    "kernelspec": {
      "name": "python3",
      "display_name": "Python 3"
    },
    "language_info": {
      "name": "python"
    }
  },
  "cells": [
    {
      "cell_type": "markdown",
      "metadata": {
        "id": "view-in-github",
        "colab_type": "text"
      },
      "source": [
        "<a href=\"https://colab.research.google.com/github/realseungju/AI_Deep_Learning/blob/main/FID/FID_Score.ipynb\" target=\"_parent\"><img src=\"https://colab.research.google.com/assets/colab-badge.svg\" alt=\"Open In Colab\"/></a>"
      ]
    },
    {
      "cell_type": "code",
      "execution_count": null,
      "metadata": {
        "id": "_NFUb3uzY-QO"
      },
      "outputs": [],
      "source": [
        "!pip install pytorch-fid"
      ]
    },
    {
      "cell_type": "code",
      "source": [
        "!mkdir \"/content/data/\"\n",
        "!mkdir \"/content/data/image1\"\n",
        "!mkdir \"/content/data/image2\""
      ],
      "metadata": {
        "id": "CBqY8DfEZHzz"
      },
      "execution_count": null,
      "outputs": []
    },
    {
      "cell_type": "code",
      "source": [
        "!python -m pytorch_fid \"/content/data/image1\" \"/content/data/image2\""
      ],
      "metadata": {
        "id": "msh40XBRz1v4"
      },
      "execution_count": null,
      "outputs": []
    }
  ]
}